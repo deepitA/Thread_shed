{
 "cells": [
  {
   "cell_type": "markdown",
   "metadata": {},
   "source": [
    "The Thread Shed has an extremely out-dating register system and stores all of the transaction information in one huge unwieldy string called daily_sales.\n",
    "\n",
    "All day, for each transaction, the name of the customer, amount spent, types of thread purchased, and the date of sale is all recorded in this same string. The task is to use Python to iterate through this string and clean up each transaction and store all the information in easier to access lists."
   ]
  },
  {
   "cell_type": "code",
   "execution_count": 2,
   "metadata": {},
   "outputs": [],
   "source": [
    "#The data\n",
    "daily_sales = \\\n",
    "\"\"\"Edith Mcbride   ;,;$1.21   ;,;   white ;,; \n",
    "09/15/17   ,Herbert Tran   ;,;   $7.29;,; \n",
    "white&blue;,;   09/15/17 ,Paul Clarke ;,;$12.52 \n",
    ";,;   white&blue ;,; 09/15/17 ,Lucille Caldwell   \n",
    ";,;   $5.13   ;,; white   ;,; 09/15/17,\n",
    "Eduardo George   ;,;$20.39;,; white&yellow \n",
    ";,;09/15/17   ,   Danny Mclaughlin;,;$30.82;,;   \n",
    "purple ;,;09/15/17 ,Stacy Vargas;,; $1.85   ;,; \n",
    "purple&yellow ;,;09/15/17,   Shaun Brock;,; \n",
    "$17.98;,;purple&yellow ;,; 09/15/17 , \n",
    "Erick Harper ;,;$17.41;,; blue ;,; 09/15/17, \n",
    "Michelle Howell ;,;$28.59;,; blue;,;   09/15/17   , \n",
    "Carroll Boyd;,; $14.51;,;   purple&blue   ;,;   \n",
    "09/15/17   , Teresa Carter   ;,; $19.64 ;,; \n",
    "white;,;09/15/17   ,   Jacob Kennedy ;,; $11.40   \n",
    ";,; white&red   ;,; 09/15/17, Craig Chambers;,; \n",
    "$8.79 ;,; white&blue&red   ;,;09/15/17   , Peggy Bell;,; $8.65 ;,;blue   ;,; 09/15/17,   Kenneth Cunningham ;,;   $10.53;,;   green&blue   ;,; \n",
    "09/15/17   ,   Marvin Morgan;,;   $16.49;,; \n",
    "green&blue&red   ;,;   09/15/17 ,Marjorie Russell \n",
    ";,; $6.55 ;,;   green&blue&red;,;   09/15/17 ,\n",
    "Israel Cummings;,;   $11.86   ;,;black;,;  \n",
    "09/15/17,   June Doyle   ;,;   $22.29 ;,;  \n",
    "black&yellow ;,;09/15/17 , Jaime Buchanan   ;,;   \n",
    "$8.35;,;   white&black&yellow   ;,;   09/15/17,   \n",
    "Rhonda Farmer;,;$2.91 ;,;   white&black&yellow   \n",
    ";,;09/15/17, Darren Mckenzie ;,;$22.94;,;green \n",
    ";,;09/15/17,Rufus Malone;,;$4.70   ;,; green&yellow \n",
    ";,; 09/15/17   ,Hubert Miles;,;   $3.59   \n",
    ";,;green&yellow&blue;,;   09/15/17   , Joseph Bridges  ;,;$5.66   ;,; green&yellow&purple&blue \n",
    ";,;   09/15/17 , Sergio Murphy   ;,;$17.51   ;,;   \n",
    "black   ;,;   09/15/17 , Audrey Ferguson ;,; \n",
    "$5.54;,;black&blue   ;,;09/15/17 ,Edna Williams ;,; \n",
    "$17.13;,; black&blue;,;   09/15/17,   Randy Fleming;,;   $21.13 ;,;black ;,;09/15/17 ,Elisa Hart;,; $0.35   ;,; black&purple;,;   09/15/17   ,\n",
    "Ernesto Hunt ;,; $13.91   ;,;   black&purple ;,;   \n",
    "09/15/17,   Shannon Chavez   ;,;$19.26   ;,; \n",
    "yellow;,; 09/15/17   , Sammy Cain;,; $5.45;,;   \n",
    "yellow&red ;,;09/15/17 ,   Steven Reeves ;,;$5.50   \n",
    ";,;   yellow;,;   09/15/17, Ruben Jones   ;,; \n",
    "$14.56 ;,;   yellow&blue;,;09/15/17 , Essie Hansen;,;   $7.33   ;,;   yellow&blue&red\n",
    ";,; 09/15/17   ,   Rene Hardy   ;,; $20.22   ;,; \n",
    "black ;,;   09/15/17 ,   Lucy Snyder   ;,; $8.67   \n",
    ";,;black&red  ;,; 09/15/17 ,Dallas Obrien ;,;   \n",
    "$8.31;,;   black&red ;,;   09/15/17,   Stacey Payne \n",
    ";,;   $15.70   ;,;   white&black&red ;,;09/15/17   \n",
    ",   Tanya Cox   ;,;   $6.74   ;,;yellow   ;,; \n",
    "09/15/17 , Melody Moran ;,;   $30.84   \n",
    ";,;yellow&black;,;   09/15/17 , Louise Becker   ;,; \n",
    "$12.31 ;,; green&yellow&black;,;   09/15/17 ,\n",
    "Ryan Webster;,;$2.94 ;,; yellow ;,; 09/15/17 \n",
    ",Justin Blake ;,; $22.46   ;,;white&yellow ;,;   \n",
    "09/15/17,   Beverly Baldwin ;,;   $6.60;,;   \n",
    "white&yellow&black ;,;09/15/17   ,   Dale Brady   \n",
    ";,;   $6.27 ;,; yellow   ;,;09/15/17 ,Guadalupe Potter ;,;$21.12   ;,; yellow;,; 09/15/17   , \n",
    "Desiree Butler ;,;$2.10   ;,;white;,; 09/15/17  \n",
    ",Sonja Barnett ;,; $14.22 ;,;white&black;,;   \n",
    "09/15/17, Angelica Garza;,;$11.60;,;white&black   \n",
    ";,;   09/15/17   ,   Jamie Welch   ;,; $25.27   ;,; \n",
    "white&black&red ;,;09/15/17   ,   Rex Hudson   \n",
    ";,;$8.26;,;   purple;,; 09/15/17 ,   Nadine Gibbs \n",
    ";,;   $30.80 ;,;   purple&yellow   ;,; 09/15/17   , \n",
    "Hannah Pratt;,;   $22.61   ;,;   purple&yellow   \n",
    ";,;09/15/17,Gayle Richards;,;$22.19 ;,; \n",
    "green&purple&yellow ;,;09/15/17   ,Stanley Holland \n",
    ";,; $7.47   ;,; red ;,; 09/15/17 , Anna Dean;,;$5.49 ;,; yellow&red ;,;   09/15/17   ,\n",
    "Terrance Saunders ;,;   $23.70  ;,;green&yellow&red \n",
    ";,; 09/15/17 ,   Brandi Zimmerman ;,; $26.66 ;,; \n",
    "red   ;,;09/15/17 ,Guadalupe Freeman ;,; $25.95;,; \n",
    "green&red ;,;   09/15/17   ,Irving Patterson \n",
    ";,;$19.55 ;,; green&white&red ;,;   09/15/17 ,Karl Ross;,;   $15.68;,;   white ;,;   09/15/17 , Brandy Cortez ;,;$23.57;,;   white&red   ;,;09/15/17, \n",
    "Mamie Riley   ;,;$29.32;,; purple;,;09/15/17 ,Mike Thornton   ;,; $26.44 ;,;   purple   ;,; 09/15/17, \n",
    "Jamie Vaughn   ;,; $17.24;,;green ;,; 09/15/17   , \n",
    "Noah Day ;,;   $8.49   ;,;green   ;,;09/15/17   \n",
    ",Josephine Keller ;,;$13.10 ;,;green;,;   09/15/17 ,   Tracey Wolfe;,;$20.39 ;,; red   ;,; 09/15/17 ,\n",
    "Ignacio Parks;,;$14.70   ;,; white&red ;,;09/15/17 \n",
    ", Beatrice Newman ;,;$22.45   ;,;white&purple&red \n",
    ";,;   09/15/17, Andre Norris   ;,;   $28.46   ;,;   \n",
    "red;,;   09/15/17 ,   Albert Lewis ;,; $23.89;,;   \n",
    "black&red;,; 09/15/17,   Javier Bailey   ;,;   \n",
    "$24.49   ;,; black&red ;,; 09/15/17   , Everett Lyons ;,;$1.81;,;   black&red ;,; 09/15/17 ,   \n",
    "Abraham Maxwell;,; $6.81   ;,;green;,;   09/15/17   \n",
    ",   Traci Craig ;,;$0.65;,; green&yellow;,; \n",
    "09/15/17 , Jeffrey Jenkins   ;,;$26.45;,; \n",
    "green&yellow&blue   ;,;   09/15/17,   Merle Wilson \n",
    ";,;   $7.69 ;,; purple;,; 09/15/17,Janis Franklin   \n",
    ";,;$8.74   ;,; purple&black   ;,;09/15/17 ,  \n",
    "Leonard Guerrero ;,;   $1.86   ;,;yellow  \n",
    ";,;09/15/17,Lana Sanchez;,;$14.75   ;,; yellow;,;   \n",
    "09/15/17   ,Donna Ball ;,; $28.10  ;,; \n",
    "yellow&blue;,;   09/15/17   , Terrell Barber   ;,; \n",
    "$9.91   ;,; green ;,;09/15/17   ,Jody Flores;,; \n",
    "$16.34 ;,; green ;,;   09/15/17,   Daryl Herrera \n",
    ";,;$27.57;,; white;,;   09/15/17   , Miguel Mcguire;,;$5.25;,; white&blue   ;,;   09/15/17 ,   \n",
    "Rogelio Gonzalez;,; $9.51;,;   white&black&blue   \n",
    ";,;   09/15/17   ,   Lora Hammond ;,;$20.56 ;,; \n",
    "green;,;   09/15/17,Owen Ward;,; $21.64   ;,;   \n",
    "green&yellow;,;09/15/17,Malcolm Morales ;,;   \n",
    "$24.99   ;,;   green&yellow&black;,; 09/15/17 ,   \n",
    "Eric Mcdaniel ;,;$29.70;,; green ;,; 09/15/17 \n",
    ",Madeline Estrada;,;   $15.52;,;green;,;   09/15/17 \n",
    ", Leticia Manning;,;$15.70 ;,; green&purple;,; \n",
    "09/15/17 ,   Mario Wallace ;,; $12.36 ;,;green ;,; \n",
    "09/15/17,Lewis Glover;,;   $13.66   ;,;   \n",
    "green&white;,;09/15/17,   Gail Phelps   ;,;$30.52   \n",
    ";,; green&white&blue   ;,; 09/15/17 , Myrtle Morris \n",
    ";,;   $22.66   ;,; green&white&blue;,;09/15/17\"\"\"\n"
   ]
  },
  {
   "cell_type": "markdown",
   "metadata": {},
   "source": [
    "It looks like each transaction is separated from the next transaction by a ,, and then each piece of data within a transaction is separated by the artifact ;,;\n",
    "\n",
    "Replace all the instances of ;,; in daily_sales with some other character and save the result to daily_sales_replaced."
   ]
  },
  {
   "cell_type": "code",
   "execution_count": 3,
   "metadata": {},
   "outputs": [],
   "source": [
    "daily_sales_replaced = daily_sales.replace(';,;','|')"
   ]
  },
  {
   "cell_type": "markdown",
   "metadata": {},
   "source": [
    "Now we can split the string into a list of each individual transaction.\n",
    "\n",
    "Split daily_sales_replaced around commas and save it to a new list daily_transactions."
   ]
  },
  {
   "cell_type": "code",
   "execution_count": 5,
   "metadata": {},
   "outputs": [],
   "source": [
    "daily_transactions = daily_sales_replaced.split(',')\n",
    "#print(daily_transactions)"
   ]
  },
  {
   "cell_type": "markdown",
   "metadata": {},
   "source": [
    "Split each individual transaction into a list of its data points."
   ]
  },
  {
   "cell_type": "markdown",
   "metadata": {},
   "source": [
    "Append each of these split strings (which are lists now) to our new list daily_transactions_split."
   ]
  },
  {
   "cell_type": "code",
   "execution_count": 6,
   "metadata": {},
   "outputs": [],
   "source": [
    "daily_transactions_split = [x.split('|') for x in daily_transactions]"
   ]
  },
  {
   "cell_type": "code",
   "execution_count": 7,
   "metadata": {},
   "outputs": [
    {
     "name": "stdout",
     "output_type": "stream",
     "text": [
      "['Edith Mcbride   ', '$1.21   ', '   white ', ' \\n09/15/17   ']\n"
     ]
    }
   ],
   "source": [
    "print(daily_transactions_split[0])"
   ]
  },
  {
   "cell_type": "markdown",
   "metadata": {},
   "source": [
    "It looks like each data item has inconsistent whitespace around it.\n",
    "\n",
    "Iterate through daily_transactions_split and for each transaction iterate through the different data points and strip off any whitespace."
   ]
  },
  {
   "cell_type": "code",
   "execution_count": 8,
   "metadata": {},
   "outputs": [],
   "source": [
    "transactions_clean = []"
   ]
  },
  {
   "cell_type": "code",
   "execution_count": 9,
   "metadata": {},
   "outputs": [],
   "source": [
    "for entries in daily_transactions_split:\n",
    "  temp = []\n",
    "  for entry in entries:\n",
    "    temp.append(entry.strip())\n",
    "  transactions_clean.append(temp)"
   ]
  },
  {
   "cell_type": "code",
   "execution_count": 10,
   "metadata": {},
   "outputs": [
    {
     "name": "stdout",
     "output_type": "stream",
     "text": [
      "['Edith Mcbride', '$1.21', 'white', '09/15/17']\n"
     ]
    }
   ],
   "source": [
    "print(transactions_clean[0])"
   ]
  },
  {
   "cell_type": "markdown",
   "metadata": {},
   "source": [
    "Append the customers name to customers.\n",
    "Append the amount of the sale to sales.\n",
    "Append the threads sold to thread_sold"
   ]
  },
  {
   "cell_type": "code",
   "execution_count": 11,
   "metadata": {},
   "outputs": [],
   "source": [
    "customers = [customer[0] for customer in transactions_clean]\n",
    "sales = [sale[1] for sale in transactions_clean]\n",
    "thread_sold = [thread[2] for thread in transactions_clean]"
   ]
  },
  {
   "cell_type": "markdown",
   "metadata": {},
   "source": [
    "How much Thread Shed made in a day?"
   ]
  },
  {
   "cell_type": "code",
   "execution_count": 12,
   "metadata": {},
   "outputs": [
    {
     "name": "stdout",
     "output_type": "stream",
     "text": [
      "1498.7400000000005\n"
     ]
    }
   ],
   "source": [
    "total_sales = 0\n",
    "sales_float = [float(sale.strip('$')) for sale in sales]\n",
    "total_sales = sum(sales_float)\n",
    "print(total_sales)"
   ]
  },
  {
   "cell_type": "markdown",
   "metadata": {},
   "source": [
    "How much thread of any specific color was sold?\n"
   ]
  },
  {
   "cell_type": "code",
   "execution_count": 14,
   "metadata": {},
   "outputs": [],
   "source": [
    "thread_sold_split = []\n",
    "for color in thread_sold:\n",
    "    if color.find('&')==-1:\n",
    "       thread_sold_split.append(color)\n",
    "    else:\n",
    "        temp = color.split('&')\n",
    "        for t in temp:\n",
    "            thread_sold_split.append(t)\n",
    "\n",
    "        "
   ]
  },
  {
   "cell_type": "code",
   "execution_count": 15,
   "metadata": {},
   "outputs": [
    {
     "name": "stdout",
     "output_type": "stream",
     "text": [
      "['white', 'white', 'blue', 'white', 'blue', 'white', 'white', 'yellow', 'purple', 'purple', 'yellow', 'purple', 'yellow', 'blue', 'blue', 'purple', 'blue', 'white', 'white', 'red', 'white', 'blue', 'red', 'blue', 'green', 'blue', 'green', 'blue', 'red', 'green', 'blue', 'red', 'black', 'black', 'yellow', 'white', 'black', 'yellow', 'white', 'black', 'yellow', 'green', 'green', 'yellow', 'green', 'yellow', 'blue', 'green', 'yellow', 'purple', 'blue', 'black', 'black', 'blue', 'black', 'blue', 'black', 'black', 'purple', 'black', 'purple', 'yellow', 'yellow', 'red', 'yellow', 'yellow', 'blue', 'yellow', 'blue', 'red', 'black', 'black', 'red', 'black', 'red', 'white', 'black', 'red', 'yellow', 'yellow', 'black', 'green', 'yellow', 'black', 'yellow', 'white', 'yellow', 'white', 'yellow', 'black', 'yellow', 'yellow', 'white', 'white', 'black', 'white', 'black', 'white', 'black', 'red', 'purple', 'purple', 'yellow', 'purple', 'yellow', 'green', 'purple', 'yellow', 'red', 'yellow', 'red', 'green', 'yellow', 'red', 'red', 'green', 'red', 'green', 'white', 'red', 'white', 'white', 'red', 'purple', 'purple', 'green', 'green', 'green', 'red', 'white', 'red', 'white', 'purple', 'red', 'red', 'black', 'red', 'black', 'red', 'black', 'red', 'green', 'green', 'yellow', 'green', 'yellow', 'blue', 'purple', 'purple', 'black', 'yellow', 'yellow', 'yellow', 'blue', 'green', 'green', 'white', 'white', 'blue', 'white', 'black', 'blue', 'green', 'green', 'yellow', 'green', 'yellow', 'black', 'green', 'green', 'green', 'purple', 'green', 'green', 'white', 'green', 'white', 'blue', 'green', 'white', 'blue']\n"
     ]
    }
   ],
   "source": [
    "print(thread_sold_split)"
   ]
  },
  {
   "cell_type": "code",
   "execution_count": 16,
   "metadata": {},
   "outputs": [],
   "source": [
    "\n",
    "def color_count(color):\n",
    "    count_ = 0\n",
    "    for c in thread_sold_split:\n",
    "        if c== color:\n",
    "            count_+=1\n",
    "    return count_"
   ]
  },
  {
   "cell_type": "code",
   "execution_count": 18,
   "metadata": {},
   "outputs": [
    {
     "name": "stdout",
     "output_type": "stream",
     "text": [
      "28\n"
     ]
    }
   ],
   "source": [
    "print(color_count('white'))"
   ]
  },
  {
   "cell_type": "code",
   "execution_count": 19,
   "metadata": {},
   "outputs": [],
   "source": [
    "colors = list(set(thread_sold_split))"
   ]
  },
  {
   "cell_type": "code",
   "execution_count": 20,
   "metadata": {},
   "outputs": [
    {
     "name": "stdout",
     "output_type": "stream",
     "text": [
      "['white', 'green', 'yellow', 'purple', 'red', 'black', 'blue']\n"
     ]
    }
   ],
   "source": [
    "print(colors)"
   ]
  },
  {
   "cell_type": "code",
   "execution_count": 22,
   "metadata": {},
   "outputs": [
    {
     "name": "stdout",
     "output_type": "stream",
     "text": [
      "The white thread was sold 28 times\n",
      "The green thread was sold 30 times\n",
      "The yellow thread was sold 34 times\n",
      "The purple thread was sold 17 times\n",
      "The red thread was sold 24 times\n",
      "The black thread was sold 26 times\n",
      "The blue thread was sold 22 times\n"
     ]
    }
   ],
   "source": [
    "for col in colors:\n",
    "    print(\"The {} thread was sold {} times\".format(col,color_count(col)))"
   ]
  }
 ],
 "metadata": {
  "kernelspec": {
   "display_name": "Python 3",
   "language": "python",
   "name": "python3"
  },
  "language_info": {
   "codemirror_mode": {
    "name": "ipython",
    "version": 3
   },
   "file_extension": ".py",
   "mimetype": "text/x-python",
   "name": "python",
   "nbconvert_exporter": "python",
   "pygments_lexer": "ipython3",
   "version": "3.6.4"
  }
 },
 "nbformat": 4,
 "nbformat_minor": 2
}
